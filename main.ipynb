{
  "cells": [
    {
      "cell_type": "code",
      "execution_count": null,
      "id": "e60afba8-aac8-4bf7-81b7-b3ea0800c6b1",
      "metadata": {
        "id": "e60afba8-aac8-4bf7-81b7-b3ea0800c6b1"
      },
      "outputs": [],
      "source": [
        "print('this is first init for jupyter notebook')"
      ]
    }
  ],
  "metadata": {
    "kernelspec": {
      "display_name": "Python 3 (ipykernel)",
      "language": "python",
      "name": "python3"
    },
    "language_info": {
      "codemirror_mode": {
        "name": "ipython",
        "version": 3
      },
      "file_extension": ".py",
      "mimetype": "text/x-python",
      "name": "python",
      "nbconvert_exporter": "python",
      "pygments_lexer": "ipython3",
      "version": "3.11.4"
    },
    "colab": {
      "provenance": []
    }
  },
  "nbformat": 4,
  "nbformat_minor": 5
}